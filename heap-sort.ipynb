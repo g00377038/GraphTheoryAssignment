{
 "cells": [
  {
   "cell_type": "markdown",
   "id": "10c6c861",
   "metadata": {},
   "source": [
    "<h1 style=\"text-decoration: underline;\"> <b> Heap-Sort Notebook </b> </h1>`"
   ]
  },
  {
   "cell_type": "markdown",
   "id": "a0f504b9",
   "metadata": {},
   "source": [
    "<h2> Trees </h2>"
   ]
  },
  {
   "cell_type": "markdown",
   "id": "28c0d1cc",
   "metadata": {},
   "source": [
    "<h3> Tree Terminology </h3>\n",
    "<p> \n",
    "<li> Node:        structure that contains data and connections to other nodes. All nodes have one Parent node, except for the Root Node. Nodes may have zero or many Child Nodes.</li> \n",
    "<li> Parent Node: the superior node of a given node is known as that given node’s Parent. </li>\n",
    "<li> Child Node:  any subnode of a given node is known as that given node’s Child. </li>\n",
    "<li> Root Node:   the topmost node in a tree.   </li>  \n",
    "<li> Degree of a Node: the number of children a given node has. </li>\n",
    "<li> Degree of a Tree: the maximum degree of a node within the tree. </li>\n",
    "<li> Edge: connection between nodes. </li>\n",
    "<li> Level: the number of edges along the unique path of a node and its root. </li>\n",
    "<li> Width: the number of nodes in a level. </li>\n",
    "<li> Size of a Tree: the number of nodes in the Tree. </li>\n",
    "<li> Leaf Node: a Node that does not have any Child Nodes.\n",
    "<li> Height of a Tree: the length of the longest downward path from the Root Node of the Tree to a Leaf Node. </li>\n",
    "</p>"
   ]
  },
  {
   "cell_type": "markdown",
   "id": "b28e28cf",
   "metadata": {},
   "source": [
    "<h3> Defintion of Tree </h3>\n",
    "<p> The 'Tree' data structure is an abstract data type that represents data in a hierarchical format consisting of a series of connected nodes.     </p>\n",
    "<br>\n",
    "<p> Below is code to generate a list of integers and display that list as a Tree. </p>\n"
   ]
  },
  {
   "cell_type": "code",
   "execution_count": 1,
   "id": "d911c045",
   "metadata": {},
   "outputs": [
    {
     "data": {
      "text/plain": [
       "[1, 15, 3, 18, 6, 9, 2, 4, 8, 10]"
      ]
     },
     "execution_count": 1,
     "metadata": {},
     "output_type": "execute_result"
    }
   ],
   "source": [
    "# Import library to work with Plots\n",
    "import matplotlib.pyplot as plt\n",
    "\n",
    "# Change default plot size.\n",
    "plt.rcParams[\"figure.figsize\"] = (20, 8)\n",
    "\n",
    "# Import library to work with Graphs.\n",
    "import networkx as nx\n",
    "\n",
    "# Import library for Math functions.\n",
    "import math\n",
    "\n",
    "# IMport library for Numerical and random functions.\n",
    "import numpy as np\n",
    "\n",
    "# Create a list of integers.\n",
    "L = [1, 15, 3, 18, 6, 9, 2, 4, 8, 10]\n",
    "L"
   ]
  },
  {
   "cell_type": "code",
   "execution_count": 2,
   "id": "eff2a261",
   "metadata": {},
   "outputs": [],
   "source": [
    "# function to create and display Tree\n",
    "def DrawTree(L, highlight=None):\n",
    "  # Create tree.\n",
    "  T = nx.balanced_tree(4, math.floor(math.log(len(L), 2)))\n",
    "  # Remove nodes beyond the length of L.\n",
    "  T.remove_nodes_from(list(T.nodes)[len(L):])\n",
    "  # Relabel the nodes with elements of L.\n",
    "  T = nx.relabel_nodes(T, dict(zip(T.nodes, L)), copy=True)\n",
    "  # Get nice positions for the nodes in the picture.\n",
    "  pos = nx.drawing.nx_pydot.graphviz_layout(T, prog=\"dot\")\n",
    "  # Draw the graph.\n",
    "  nx.draw(T, pos, with_labels=True, node_color='gold', node_size=1600, font_size=32)\n",
    "  # Highlight nodes if needed.\n",
    "  if highlight:\n",
    "    nx.draw_networkx(T.subgraph([i for i in T.nodes if i in highlight]), pos=pos, node_color='pink', node_size=1600, font_size=32)"
   ]
  },
  {
   "cell_type": "code",
   "execution_count": 3,
   "id": "1a1f1111",
   "metadata": {},
   "outputs": [
    {
     "ename": "ModuleNotFoundError",
     "evalue": "No module named 'pydot'",
     "output_type": "error",
     "traceback": [
      "\u001b[1;31m---------------------------------------------------------------------------\u001b[0m",
      "\u001b[1;31mModuleNotFoundError\u001b[0m                       Traceback (most recent call last)",
      "Input \u001b[1;32mIn [3]\u001b[0m, in \u001b[0;36m<cell line: 1>\u001b[1;34m()\u001b[0m\n\u001b[1;32m----> 1\u001b[0m \u001b[43mDrawTree\u001b[49m\u001b[43m(\u001b[49m\u001b[43mL\u001b[49m\u001b[43m)\u001b[49m\n",
      "Input \u001b[1;32mIn [2]\u001b[0m, in \u001b[0;36mDrawTree\u001b[1;34m(L, highlight)\u001b[0m\n\u001b[0;32m      8\u001b[0m T \u001b[38;5;241m=\u001b[39m nx\u001b[38;5;241m.\u001b[39mrelabel_nodes(T, \u001b[38;5;28mdict\u001b[39m(\u001b[38;5;28mzip\u001b[39m(T\u001b[38;5;241m.\u001b[39mnodes, L)), copy\u001b[38;5;241m=\u001b[39m\u001b[38;5;28;01mTrue\u001b[39;00m)\n\u001b[0;32m      9\u001b[0m \u001b[38;5;66;03m# Get nice positions for the nodes in the picture.\u001b[39;00m\n\u001b[1;32m---> 10\u001b[0m pos \u001b[38;5;241m=\u001b[39m \u001b[43mnx\u001b[49m\u001b[38;5;241;43m.\u001b[39;49m\u001b[43mdrawing\u001b[49m\u001b[38;5;241;43m.\u001b[39;49m\u001b[43mnx_pydot\u001b[49m\u001b[38;5;241;43m.\u001b[39;49m\u001b[43mgraphviz_layout\u001b[49m\u001b[43m(\u001b[49m\u001b[43mT\u001b[49m\u001b[43m,\u001b[49m\u001b[43m \u001b[49m\u001b[43mprog\u001b[49m\u001b[38;5;241;43m=\u001b[39;49m\u001b[38;5;124;43m\"\u001b[39;49m\u001b[38;5;124;43mdot\u001b[39;49m\u001b[38;5;124;43m\"\u001b[39;49m\u001b[43m)\u001b[49m\n\u001b[0;32m     11\u001b[0m \u001b[38;5;66;03m# Draw the graph.\u001b[39;00m\n\u001b[0;32m     12\u001b[0m nx\u001b[38;5;241m.\u001b[39mdraw(T, pos, with_labels\u001b[38;5;241m=\u001b[39m\u001b[38;5;28;01mTrue\u001b[39;00m, node_color\u001b[38;5;241m=\u001b[39m\u001b[38;5;124m'\u001b[39m\u001b[38;5;124mgold\u001b[39m\u001b[38;5;124m'\u001b[39m, node_size\u001b[38;5;241m=\u001b[39m\u001b[38;5;241m1600\u001b[39m, font_size\u001b[38;5;241m=\u001b[39m\u001b[38;5;241m32\u001b[39m)\n",
      "File \u001b[1;32m~\\anaconda3\\lib\\site-packages\\networkx\\drawing\\nx_pydot.py:263\u001b[0m, in \u001b[0;36mgraphviz_layout\u001b[1;34m(G, prog, root)\u001b[0m\n\u001b[0;32m    233\u001b[0m \u001b[38;5;28;01mdef\u001b[39;00m \u001b[38;5;21mgraphviz_layout\u001b[39m(G, prog\u001b[38;5;241m=\u001b[39m\u001b[38;5;124m\"\u001b[39m\u001b[38;5;124mneato\u001b[39m\u001b[38;5;124m\"\u001b[39m, root\u001b[38;5;241m=\u001b[39m\u001b[38;5;28;01mNone\u001b[39;00m):\n\u001b[0;32m    234\u001b[0m     \u001b[38;5;124;03m\"\"\"Create node positions using Pydot and Graphviz.\u001b[39;00m\n\u001b[0;32m    235\u001b[0m \n\u001b[0;32m    236\u001b[0m \u001b[38;5;124;03m    Returns a dictionary of positions keyed by node.\u001b[39;00m\n\u001b[1;32m   (...)\u001b[0m\n\u001b[0;32m    261\u001b[0m \u001b[38;5;124;03m    This is a wrapper for pydot_layout.\u001b[39;00m\n\u001b[0;32m    262\u001b[0m \u001b[38;5;124;03m    \"\"\"\u001b[39;00m\n\u001b[1;32m--> 263\u001b[0m     \u001b[38;5;28;01mreturn\u001b[39;00m \u001b[43mpydot_layout\u001b[49m\u001b[43m(\u001b[49m\u001b[43mG\u001b[49m\u001b[38;5;241;43m=\u001b[39;49m\u001b[43mG\u001b[49m\u001b[43m,\u001b[49m\u001b[43m \u001b[49m\u001b[43mprog\u001b[49m\u001b[38;5;241;43m=\u001b[39;49m\u001b[43mprog\u001b[49m\u001b[43m,\u001b[49m\u001b[43m \u001b[49m\u001b[43mroot\u001b[49m\u001b[38;5;241;43m=\u001b[39;49m\u001b[43mroot\u001b[49m\u001b[43m)\u001b[49m\n",
      "File \u001b[1;32m~\\anaconda3\\lib\\site-packages\\networkx\\drawing\\nx_pydot.py:304\u001b[0m, in \u001b[0;36mpydot_layout\u001b[1;34m(G, prog, root)\u001b[0m\n\u001b[0;32m    266\u001b[0m \u001b[38;5;28;01mdef\u001b[39;00m \u001b[38;5;21mpydot_layout\u001b[39m(G, prog\u001b[38;5;241m=\u001b[39m\u001b[38;5;124m\"\u001b[39m\u001b[38;5;124mneato\u001b[39m\u001b[38;5;124m\"\u001b[39m, root\u001b[38;5;241m=\u001b[39m\u001b[38;5;28;01mNone\u001b[39;00m):\n\u001b[0;32m    267\u001b[0m     \u001b[38;5;124;03m\"\"\"Create node positions using :mod:`pydot` and Graphviz.\u001b[39;00m\n\u001b[0;32m    268\u001b[0m \n\u001b[0;32m    269\u001b[0m \u001b[38;5;124;03m    Parameters\u001b[39;00m\n\u001b[1;32m   (...)\u001b[0m\n\u001b[0;32m    302\u001b[0m \n\u001b[0;32m    303\u001b[0m \u001b[38;5;124;03m    \"\"\"\u001b[39;00m\n\u001b[1;32m--> 304\u001b[0m     \u001b[38;5;28;01mimport\u001b[39;00m \u001b[38;5;21;01mpydot\u001b[39;00m\n\u001b[0;32m    306\u001b[0m     P \u001b[38;5;241m=\u001b[39m to_pydot(G)\n\u001b[0;32m    307\u001b[0m     \u001b[38;5;28;01mif\u001b[39;00m root \u001b[38;5;129;01mis\u001b[39;00m \u001b[38;5;129;01mnot\u001b[39;00m \u001b[38;5;28;01mNone\u001b[39;00m:\n",
      "\u001b[1;31mModuleNotFoundError\u001b[0m: No module named 'pydot'"
     ]
    }
   ],
   "source": [
    "DrawTree(L)"
   ]
  },
  {
   "cell_type": "markdown",
   "id": "37da3d6f",
   "metadata": {},
   "source": [
    "<p> <small> The Tree displayed above is the output of the 'DrawTree' function. The function has taken the list of integers 'L', L = [1, 15, 3, 18, 6, 9, 2, 4, 8, 10], and displayed it in a Tree data structure. </small> </p>\n",
    "<br>\n",
    "<ul> Examples of Tree Terminology Using Generated Tree</ul>\n",
    "<li> The created tree contains ten nodes. Each node contains one of the integers from the list 'L'. </li>\n",
    "<li> Node '15' is the Parent node of nodes '9', '2', '4' and '8'. </li>\n",
    "<li> Node '10' is the Child node of node '3'. </li>\n",
    "<li> The node '1' is the Root Node. </li>\n",
    "<li> The Degree of node '3' is one. </li>\n",
    "<li> The Degree of the Tree is 4. </li>\n",
    "<li> The Tree contains three levels. </li>\n",
    "<li> The Width of Level two in the Tree is four. </li>\n",
    "<li> The Size of the Tree is ten. </li>\n"
   ]
  },
  {
   "cell_type": "markdown",
   "id": "00350a09",
   "metadata": {},
   "source": [
    "<h3> Defintion of Rooted Binary Tree </h3>\n",
    "<p> A Rooted Binary Tree is a type tree data structure in which one vertex has been designated the Root and each node has at most two children.        </p>\n",
    "<br>\n",
    "<p> Below is code to generate a list of integers and display that list as a Rooted Binary Tree. </p>\n"
   ]
  },
  {
   "cell_type": "code",
   "execution_count": null,
   "id": "d2cf759b",
   "metadata": {},
   "outputs": [],
   "source": [
    "# function to create and display Binary Rooted Tree\n",
    "def DrawBinaryTree(L, highlight=None):\n",
    "  # Create a fully balanced binary tree.\n",
    "  T = nx.balanced_tree(2, math.floor(math.log(len(L), 2)))\n",
    "  # Remove nodes beyond the length of L.\n",
    "  T.remove_nodes_from(list(T.nodes)[len(L):])\n",
    "  # Relabel the nodes with elements of L.\n",
    "  T = nx.relabel_nodes(T, dict(zip(T.nodes, L)), copy=True)\n",
    "  # Get nice positions for the nodes in the picture.\n",
    "  pos = nx.drawing.nx_pydot.graphviz_layout(T, prog=\"dot\")\n",
    "  # Draw the graph.\n",
    "  nx.draw(T, pos, with_labels=True, node_color='gold', node_size=1600, font_size=32)\n",
    "  # Highlight nodes if needed.\n",
    "  if highlight:\n",
    "    nx.draw_networkx(T.subgraph([i for i in T.nodes if i in highlight]), pos=pos, node_color='pink', node_size=1600, font_size=32)"
   ]
  },
  {
   "cell_type": "code",
   "execution_count": null,
   "id": "48fa7dc0",
   "metadata": {},
   "outputs": [],
   "source": [
    "DrawBinaryTree(L)"
   ]
  },
  {
   "cell_type": "markdown",
   "id": "23e3a379",
   "metadata": {},
   "source": [
    "<p> <small> The Tree displayed above is the output of the 'DrawBinaryTree' function. The function has taken the list of integers 'L', L = [1, 15, 3, 18, 6, 9, 2, 4, 8, 10], and displayed it in a Rooted Binary Tree data structure. </small> </p>\n",
    "<br>"
   ]
  },
  {
   "cell_type": "markdown",
   "id": "212a19fc",
   "metadata": {},
   "source": [
    "<h3> Difference Between a Tree and a Rooted Binary Tree </h3>\n",
    "<p> Using the generated trees, we can visualise their differences. Though both trees are of the same size, their different sized widths create two distinct shapes. The widths of the trees are limited by the maximum Degree of its nodes. The first tree was created with a maximum node Degree of four. This means that each node could have from zero up to four Children. The form of the Rooted Binary Tree limits its nodes to a maximum of two Children. Due to this diffence in maximum node Degree, the Rooted Binary Tree has a larger height, four Levels, than that of the first Tree, 3 levels. </p>"
   ]
  },
  {
   "cell_type": "markdown",
   "id": "62aaffa9",
   "metadata": {},
   "source": [
    "<br>\n",
    "<h2> Heap Sort </h2>"
   ]
  },
  {
   "cell_type": "markdown",
   "id": "ccae3544",
   "metadata": {},
   "source": [
    "<h3> Defintion of Heap Sort </h3>\n",
    "<p> Heap Sort is a comparison-based sorting algorithm. This means that the algorithm compares elements in a list in order to arrange them into a final sorted list. Heap Sort will split a list into a sorted section and an unsorted section. It then iteratively adds elements from the unsorted section to the sorted based on the desired comparison, “greater than” or “less than”, until the complete list has been sorted.      </p>\n",
    "<p> The Heap Sort Algorithm is comprised of two parts. In the first part, the data to be sorted is transformed into a Heap. A Heap is a Binary Tree data structure. There are two different types of Heaps; a Max-Heap and a Min-Heap. In a Max-Heap the goal is to compare the elements of the list and swap their positions in the Tree until the Root Node represents the element that is the largest, or equal to the largest, in the list. The goal of the Min-Heap follows the same steps except that it is looking for the element that is the smallest, or equal to the smallest, in the list. \n",
    "    In the second part of the Heap Sort Algorithm, the element represented by the Root Node, which will be either the largest or smallest element in the list depending, is removed from the Heap and placed into an array. After the element has been removed, the Heap is updated to find the next largest/smallest element which will also be placed into the array. The process is repeated until every element has been removed from the Heap and the result is a sorted array of the elements. </p>"
   ]
  },
  {
   "cell_type": "markdown",
   "id": "bd3c7e3c",
   "metadata": {},
   "source": [
    "<h1 style=\"text-decoration: underline;\"> <b> End of Notebook </b> </h1>`"
   ]
  }
 ],
 "metadata": {
  "kernelspec": {
   "display_name": "Python 3 (ipykernel)",
   "language": "python",
   "name": "python3"
  },
  "language_info": {
   "codemirror_mode": {
    "name": "ipython",
    "version": 3
   },
   "file_extension": ".py",
   "mimetype": "text/x-python",
   "name": "python",
   "nbconvert_exporter": "python",
   "pygments_lexer": "ipython3",
   "version": "3.9.12"
  }
 },
 "nbformat": 4,
 "nbformat_minor": 5
}
