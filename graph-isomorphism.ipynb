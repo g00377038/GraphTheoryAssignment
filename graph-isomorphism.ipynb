{
 "cells": [
  {
   "cell_type": "markdown",
   "id": "e8379c30",
   "metadata": {},
   "source": [
    "<h1 style=\"text-decoration: underline;\"> <b> Graph Isomorphism Notebook </b> </h1>`"
   ]
  },
  {
   "cell_type": "markdown",
   "id": "79d8b9ac",
   "metadata": {},
   "source": [
    "<h3> Graph Terminology </h3>"
   ]
  },
  {
   "cell_type": "markdown",
   "id": "b1991a71",
   "metadata": {},
   "source": [
    "<p> \n",
    "<li> Graph: a set of points with lines connecting some of the points. </li>\n",
    "<li> Point: a particular position in space. </li>\n",
    "<li> Line/Edge: a connection between two points. </li>\n",
    "<li> Vertex/Node: a point where multiple lines meet.  </li>\n",
    "<li> The Degree of a Node: the number of edges at a particular Node. </li>\n",
    "</p>"
   ]
  },
  {
   "cell_type": "markdown",
   "id": "fade5952",
   "metadata": {},
   "source": [
    "<br>\n",
    "<h3> Graph Isomorphism </h3>"
   ]
  },
  {
   "cell_type": "markdown",
   "id": "6ffc5ca1",
   "metadata": {},
   "source": [
    "<p> 'Graph Isomorphism' is a term used to describe graphs. Isomorphism between multiple graphs defines those graphs as fundamentally the same, meaning that the graphs all contain the same number of Nodes and that the Nodes are connected in the same way. </p>\n",
    "<p> For two graphs to be Isomorphic they need to have the same number of Nodes/Vertices, and the Degree of each of those Nodes/Vertices need to be the same  </p>"
   ]
  },
  {
   "attachments": {},
   "cell_type": "markdown",
   "id": "94bee3de",
   "metadata": {},
   "source": [
    "<h1 style=\"text-decoration: underline;\"> <b> End of Notebook </b> </h1>`"
   ]
  }
 ],
 "metadata": {
  "kernelspec": {
   "display_name": "Python 3 (ipykernel)",
   "language": "python",
   "name": "python3"
  },
  "language_info": {
   "codemirror_mode": {
    "name": "ipython",
    "version": 3
   },
   "file_extension": ".py",
   "mimetype": "text/x-python",
   "name": "python",
   "nbconvert_exporter": "python",
   "pygments_lexer": "ipython3",
   "version": "3.9.12"
  }
 },
 "nbformat": 4,
 "nbformat_minor": 5
}
